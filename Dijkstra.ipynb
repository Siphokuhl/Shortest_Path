{
 "cells": [
  {
   "cell_type": "code",
   "execution_count": 1,
   "id": "9f35c946-eecc-457a-a09a-7e8883a52ed9",
   "metadata": {},
   "outputs": [],
   "source": [
    "import heapq"
   ]
  },
  {
   "cell_type": "code",
   "execution_count": 2,
   "id": "c2a59279-a85b-408f-a1aa-f198ac2833d8",
   "metadata": {},
   "outputs": [
    {
     "name": "stdout",
     "output_type": "stream",
     "text": [
      "The shortest distance from DBN to JHB is 324\n",
      "The path is: DBN -> RBY -> VRT -> JHB\n"
     ]
    }
   ],
   "source": [
    "def dijkstra(graph, start, end):\n",
    "    # Initialize distances and previous node tracker\n",
    "    distances = {node: float('infinity') for node in graph}\n",
    "    distances[start] = 0\n",
    "    previous_nodes = {node: None for node in graph}\n",
    "\n",
    "    # Priority queue to keep track of the next node to visit\n",
    "    priority_queue = [(0, start)]\n",
    "\n",
    "    while priority_queue:\n",
    "        current_distance, current_node = heapq.heappop(priority_queue)\n",
    "\n",
    "        # Nodes can get added to the priority queue multiple times. We only process a node the first time we remove it from the priority queue.\n",
    "        if current_distance > distances[current_node]:\n",
    "            continue\n",
    "\n",
    "        # Check if we reached the end node\n",
    "        if current_node == end:\n",
    "            break\n",
    "\n",
    "        for neighbor, weight in graph[current_node].items():\n",
    "            distance = current_distance + weight\n",
    "\n",
    "            # Only consider this new path if it's better\n",
    "            if distance < distances[neighbor]:\n",
    "                distances[neighbor] = distance\n",
    "                previous_nodes[neighbor] = current_node\n",
    "                heapq.heappush(priority_queue, (distance, neighbor))\n",
    "\n",
    "    # Reconstruct the shortest path\n",
    "    path = []\n",
    "    current_node = end\n",
    "    while current_node:\n",
    "        path.append(current_node)\n",
    "        current_node = previous_nodes[current_node]\n",
    "    path = path[::-1]  # Reverse the path to get the correct order\n",
    "\n",
    "    return distances[end], path\n",
    "\n",
    "# Graph definition\n",
    "graph = {\n",
    "    'DBN': {'PMB': 89, 'RBY': 112},\n",
    "    'PMB': {'DBN': 89, 'RBY': 70, 'HMT': 209},\n",
    "    'RBY': {'DBN': 112, 'PMB': 70, 'VRT': 106, 'HMT': 100},\n",
    "    'HMT': {'PMB': 209, 'RBY': 100, 'VRT': 41, 'JHB': 210},\n",
    "    'VRT': {'RBY': 106, 'HMT': 41, 'JHB': 106},\n",
    "    'JHB': {'VRT': 106, 'HMT': 210}\n",
    "}\n",
    "\n",
    "# Start and End nodes\n",
    "start = 'DBN'\n",
    "end = 'JHB'\n",
    "\n",
    "# Find the shortest path\n",
    "shortest_distance, path = dijkstra(graph, start, end)\n",
    "print(f\"The shortest distance from {start} to {end} is {shortest_distance}\")\n",
    "print(f\"The path is: {' -> '.join(path)}\")\n",
    "\n"
   ]
  },
  {
   "cell_type": "code",
   "execution_count": null,
   "id": "d119c044-edd8-415a-a0b2-b003a93526da",
   "metadata": {},
   "outputs": [],
   "source": []
  }
 ],
 "metadata": {
  "kernelspec": {
   "display_name": "Python 3 (ipykernel)",
   "language": "python",
   "name": "python3"
  },
  "language_info": {
   "codemirror_mode": {
    "name": "ipython",
    "version": 3
   },
   "file_extension": ".py",
   "mimetype": "text/x-python",
   "name": "python",
   "nbconvert_exporter": "python",
   "pygments_lexer": "ipython3",
   "version": "3.11.7"
  }
 },
 "nbformat": 4,
 "nbformat_minor": 5
}
